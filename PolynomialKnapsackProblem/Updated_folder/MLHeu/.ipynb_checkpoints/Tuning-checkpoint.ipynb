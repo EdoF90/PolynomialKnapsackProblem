{
 "cells": [
  {
   "cell_type": "code",
   "execution_count": 3,
   "metadata": {},
   "outputs": [
    {
     "name": "stdout",
     "output_type": "stream",
     "text": [
      "['relax', 'profit', 'nominalC', 'upperC', 'PosSinCount', 'NegSinCount']\n",
      "START TRAINING OVER CLASSIFIER!\n",
      "\n"
     ]
    }
   ],
   "source": [
    "from sklearn.ensemble import RandomForestClassifier, AdaBoostClassifier\n",
    "from sklearn.pipeline import make_pipeline\n",
    "from sklearn.preprocessing import StandardScaler\n",
    "from sklearn.model_selection import GridSearchCV\n",
    "from sklearn.svm import SVC\n",
    "from sklearn.neighbors import KNeighborsClassifier\n",
    "from sklearn.neural_network import MLPClassifier\n",
    "from sklearn.model_selection import train_test_split\n",
    "from sklearn.metrics import classification_report\n",
    "import pandas as pd\n",
    "import numpy as np\n",
    "import json"
   ]
  },
  {
   "cell_type": "code",
   "execution_count": null,
   "metadata": {},
   "outputs": [],
   "source": [
    "df =  pd.read_csv('model_data/train.csv', header = 0)\n",
    "df = df._get_numeric_data()\n",
    "numeric_headers = list(df.columns.values)\n",
    "numeric_headers.pop()\n",
    "X = df[numeric_headers]\n",
    "X= X.drop('label', axis=1)\n",
    "X = X.to_numpy()\n",
    "y = df['label']\n",
    "y=y.apply(lambda row: int(row)) \n",
    "y=y.to_numpy()\n",
    "\n",
    "scaler = StandardScaler()\n",
    "X=scaler.fit_transform(X)\n",
    "\n",
    "X_train, X_test, y_train, y_test = train_test_split(X, y, test_size=0.3, random_state=0)"
   ]
  },
  {
   "cell_type": "code",
   "execution_count": null,
   "metadata": {},
   "outputs": [],
   "source": [
    "names = [\"Nearest_Neighbors\",\n",
    "        \"SVM\",\n",
    "        \"Adaboost\",\n",
    "        \"MLP\",\n",
    "        \"Random_Forest\"]"
   ]
  },
  {
   "cell_type": "code",
   "execution_count": null,
   "metadata": {},
   "outputs": [],
   "source": [
    "classifiers = [\n",
    "    KNeighborsClassifier(),\n",
    "    SVC(),\n",
    "    MLPClassifier(),\n",
    "    AdaBoostClassifier(),\n",
    "    RandomForestClassifier()]"
   ]
  },
  {
   "cell_type": "code",
   "execution_count": null,
   "metadata": {},
   "outputs": [],
   "source": [
    "paramsGrid={}\n",
    "paramsGrid[\"SVM\"]={\n",
    "    'C'=[0.0001,0.1,1,10,100],\n",
    "    'gamma'=[0.001,0.1,1]\n",
    "}\n",
    "paramsGrid[\"Nearest_Neighbors\"]={\n",
    "    'n_neighbors':[1,5,10,50,100,500,1000]\n",
    "\n",
    "}\n",
    "paramsGrid[\"Adaboost\"]={\n",
    "    'min_samples_leaf': [2, 5,10,20,30,50],\n",
    "    'min_samples_split': [2, 5,10,20,30,50],\n",
    "    'n_estimators': np.arange(50,500,50)\n",
    "}\n",
    "paramsGrid[\"MLP\"]={\n",
    "    'learning_rate_init':[0.001,0.1,0.01],\n",
    "    'early_stopping':True,\n",
    "    'hidden_layer_size':[100,200,500]\n",
    "}\n",
    "paramsGrid[\"Random_Forest\"]={\n",
    "    'min_samples_leaf': [2, 5,10,20,30,50],\n",
    "    'min_samples_split': [2, 5,10,20,30,50],\n",
    "    'n_estimators': np.arange(50,500,50)\n",
    "}"
   ]
  },
  {
   "cell_type": "code",
   "execution_count": null,
   "metadata": {},
   "outputs": [],
   "source": [
    "results={}\n",
    "for name, clf in zip(names, classifiers):\n",
    "\tprint(f\"For classifier {name}\")\t\n",
    "\tgrid = GridSearchCV(estimator = clf, param_grid = paramsGrid[name], \n",
    "\t                          cv = 3, n_jobs = -1, verbose = 2)\n",
    "\tgrid.fit(X_train, y_train)\n",
    "\tprint(\"\\tBest parameters set found on development set:\")\n",
    "\tprint()\n",
    "\tprint(f\"\\t{clf.best_params_}\")\n",
    "\tprint()\n",
    "\tbest_grid = grid_search.best_estimator_\n",
    "\tgrid_accuracy = evaluate(best_grid, X_test, y_test)\n",
    "\tprint(\"\\tGrid scores on development set:\")\n",
    "\tprint()\n",
    "\tprint(f\"\\t\\t{grid_accuracy}\")\n",
    "\tprint()\n",
    "    results[name]={\n",
    "        \"best_params\":clf.best_params_,\n",
    "        \"grid_accuracy\":grid_accuracy\n",
    "    }\n",
    "with open(\"Results_tuning.json\", \"w+\") as f:\n",
    "    json.dump(results,f)"
   ]
  }
 ],
 "metadata": {
  "kernelspec": {
   "display_name": "Python 3",
   "language": "python",
   "name": "python3"
  },
  "language_info": {
   "codemirror_mode": {
    "name": "ipython",
    "version": 3
   },
   "file_extension": ".py",
   "mimetype": "text/x-python",
   "name": "python",
   "nbconvert_exporter": "python",
   "pygments_lexer": "ipython3",
   "version": "3.8.5"
  }
 },
 "nbformat": 4,
 "nbformat_minor": 4
}
